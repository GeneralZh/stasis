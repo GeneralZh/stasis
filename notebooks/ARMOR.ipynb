{
 "cells": [
  {
   "cell_type": "code",
   "execution_count": 4,
   "metadata": {
    "collapsed": false
   },
   "outputs": [],
   "source": [
    "import graphlab as gl\n",
    "import scipy as sp\n",
    "import numpy as np"
   ]
  },
  {
   "cell_type": "code",
   "execution_count": 5,
   "metadata": {
    "collapsed": false
   },
   "outputs": [],
   "source": [
    "sts_train = gl.SFrame('sts2016_train.stasis/')\n",
    "sts_test = gl.SFrame('sts2016_test.stasis/')"
   ]
  },
  {
   "cell_type": "code",
   "execution_count": 6,
   "metadata": {
    "collapsed": true
   },
   "outputs": [],
   "source": [
    "sts_train = sts_train.dropna(columns=['Score'])"
   ]
  },
  {
   "cell_type": "code",
   "execution_count": 9,
   "metadata": {
    "collapsed": true
   },
   "outputs": [],
   "source": [
    "import graphlab\n",
    "import numpy\n",
    "\n",
    "\n",
    "train = sts_train\n",
    "\n",
    "feat = [i for i in train.column_names() if i not in ['Dataset', 'Domain', 'Score', 'Sent1', 'Sent2']]\n",
    "\n",
    "train_valid_shuffled = graphlab.toolkits.cross_validation.shuffle(train, random_seed=1)\n",
    "\n",
    "def kth_start_end(n,k,kth):\n",
    "    start = (n*kth)/k\n",
    "    end = (n*(kth+1))/k-1\n",
    "    return start, end+1\n",
    "\n",
    "def get_kth_train(data, kth_start, kth_end, n):\n",
    "    part1 = data[0:kth_start]\n",
    "    part2 = data[kth_end+1:n]\n",
    "    return part1.append(part2)\n",
    "\n",
    "n = len(train)\n",
    "accuracy = []\n",
    "k = 10"
   ]
  },
  {
   "cell_type": "code",
   "execution_count": 15,
   "metadata": {
    "collapsed": true
   },
   "outputs": [],
   "source": [
    "feat = [i for i in train.column_names() if i not in ['Dataset', 'Domain', 'Score', 'Sent1', 'Sent2'] + \\\n",
    "        ['DLS_compose_ppmi', 'DLS_cbow_ppmi', 'prop_harmonic', 'glove_cosine']]"
   ]
  },
  {
   "cell_type": "code",
   "execution_count": 16,
   "metadata": {
    "collapsed": false
   },
   "outputs": [
    {
     "name": "stdout",
     "output_type": "stream",
     "text": [
      "PROGRESS: WARNING: Detected extremely low variance for feature(s) 'SP-Oc(UCP)', 'NE-Me(ANGLE_QUANTITY)', 'NE-Me(LANGUAGE)', 'NE-Me(MEASURE)', 'NE-Me(METHOD)', 'NE-Me(NUM)', 'NE-Me(PROJECT)', 'NE-Me(SIZE_QUANTITY)', 'NE-Me(SPEED_QUANTITY)', 'NE-Me(SYSTEM)', 'NE-Me(TEMPERATURE_QUANTITY)', 'NE-Oe(ANGLE_QUANTITY)', 'NE-Oe(LANGUAGE)', 'NE-Oe(MEASURE)', 'NE-Oe(METHOD)', 'NE-Oe(NUM)', 'NE-Oe(PROJECT)', 'NE-Oe(SPEED_QUANTITY)', 'NE-Oe(SYSTEM)', 'NE-Oe(TEMPERATURE_QUANTITY)' because all entries are nearly the same.\n",
      "Proceeding with model training using all features. If the model does not provide results of adequate quality, exclude the above mentioned feature(s) from the input dataset.\n",
      "PROGRESS: Boosted trees regression:\n",
      "PROGRESS: --------------------------------------------------------\n",
      "PROGRESS: Number of examples          : 12237\n",
      "PROGRESS: Number of features          : 123\n",
      "PROGRESS: Number of unpacked features : 123\n",
      "PROGRESS: +-----------+--------------+--------------------+---------------+\n",
      "PROGRESS: | Iteration | Elapsed Time | Training-max_error | Training-rmse |\n",
      "PROGRESS: +-----------+--------------+--------------------+---------------+\n",
      "PROGRESS: | 1         | 0.182839     | 4.46074            | 2.11134       |\n",
      "PROGRESS: | 2         | 0.247432     | 4.11615            | 1.61365       |\n",
      "PROGRESS: | 3         | 0.317684     | 4.13275            | 1.28989       |\n",
      "PROGRESS: | 4         | 0.381775     | 4.0452             | 1.08801       |\n",
      "PROGRESS: | 5         | 0.448575     | 3.82978            | 0.96261       |\n",
      "PROGRESS: | 6         | 0.513289     | 3.83783            | 0.887945      |\n",
      "PROGRESS: | 7         | 0.577243     | 3.8258             | 0.841737      |\n",
      "PROGRESS: | 8         | 0.643186     | 3.83476            | 0.813186      |\n",
      "PROGRESS: | 9         | 0.705648     | 3.83694            | 0.78938       |\n",
      "PROGRESS: | 10        | 0.776117     | 3.80317            | 0.774406      |\n",
      "PROGRESS: +-----------+--------------+--------------------+---------------+\n",
      "(0.8076914107122638, 1.2025249492180866e-313)\n",
      "PROGRESS: WARNING: Detected extremely low variance for feature(s) 'SP-Oc(UCP)', 'NE-Me(ANGLE_QUANTITY)', 'NE-Me(LANGUAGE)', 'NE-Me(MEASURE)', 'NE-Me(METHOD)', 'NE-Me(NUM)', 'NE-Me(PROJECT)', 'NE-Me(SPEED_QUANTITY)', 'NE-Me(SYSTEM)', 'NE-Me(TEMPERATURE_QUANTITY)', 'NE-Oe(ANGLE_QUANTITY)', 'NE-Oe(LANGUAGE)', 'NE-Oe(MEASURE)', 'NE-Oe(METHOD)', 'NE-Oe(NUM)', 'NE-Oe(PROJECT)', 'NE-Oe(SPEED_QUANTITY)', 'NE-Oe(SYSTEM)', 'NE-Oe(TEMPERATURE_QUANTITY)' because all entries are nearly the same.\n",
      "Proceeding with model training using all features. If the model does not provide results of adequate quality, exclude the above mentioned feature(s) from the input dataset.\n",
      "PROGRESS: Boosted trees regression:\n",
      "PROGRESS: --------------------------------------------------------\n",
      "PROGRESS: Number of examples          : 12236\n",
      "PROGRESS: Number of features          : 123\n",
      "PROGRESS: Number of unpacked features : 123\n",
      "PROGRESS: +-----------+--------------+--------------------+---------------+\n",
      "PROGRESS: | Iteration | Elapsed Time | Training-max_error | Training-rmse |\n",
      "PROGRESS: +-----------+--------------+--------------------+---------------+\n",
      "PROGRESS: | 1         | 0.183956     | 4.44676            | 2.10981       |\n",
      "PROGRESS: | 2         | 0.258635     | 4.16591            | 1.61137       |\n",
      "PROGRESS: | 3         | 0.327450     | 4.04083            | 1.2899        |\n",
      "PROGRESS: | 4         | 0.403642     | 4.03712            | 1.08937       |\n",
      "PROGRESS: | 5         | 0.472955     | 4.04787            | 0.966796      |\n",
      "PROGRESS: | 6         | 0.541610     | 3.91166            | 0.889635      |\n",
      "PROGRESS: | 7         | 0.611868     | 3.80375            | 0.842842      |\n",
      "PROGRESS: | 8         | 0.680450     | 3.76847            | 0.81277       |\n",
      "PROGRESS: | 9         | 0.757373     | 3.62973            | 0.790415      |\n",
      "PROGRESS: | 10        | 0.836527     | 3.65429            | 0.773704      |\n",
      "PROGRESS: +-----------+--------------+--------------------+---------------+\n",
      "(0.81437195151033392, 3.4584595208887258e-323)\n",
      "PROGRESS: WARNING: Detected extremely low variance for feature(s) 'SP-Oc(UCP)', 'NE-Me(ANGLE_QUANTITY)', 'NE-Me(LANGUAGE)', 'NE-Me(MEASURE)', 'NE-Me(METHOD)', 'NE-Me(NUM)', 'NE-Me(PROJECT)', 'NE-Me(SPEED_QUANTITY)', 'NE-Me(SYSTEM)', 'NE-Me(TEMPERATURE_QUANTITY)', 'NE-Oe(ANGLE_QUANTITY)', 'NE-Oe(LANGUAGE)', 'NE-Oe(MEASURE)', 'NE-Oe(METHOD)', 'NE-Oe(NUM)', 'NE-Oe(PROJECT)', 'NE-Oe(SPEED_QUANTITY)', 'NE-Oe(SYSTEM)', 'NE-Oe(TEMPERATURE_QUANTITY)' because all entries are nearly the same.\n",
      "Proceeding with model training using all features. If the model does not provide results of adequate quality, exclude the above mentioned feature(s) from the input dataset.\n",
      "PROGRESS: Boosted trees regression:\n",
      "PROGRESS: --------------------------------------------------------\n",
      "PROGRESS: Number of examples          : 12236\n",
      "PROGRESS: Number of features          : 123\n",
      "PROGRESS: Number of unpacked features : 123\n",
      "PROGRESS: +-----------+--------------+--------------------+---------------+\n",
      "PROGRESS: | Iteration | Elapsed Time | Training-max_error | Training-rmse |\n",
      "PROGRESS: +-----------+--------------+--------------------+---------------+\n",
      "PROGRESS: | 1         | 0.238271     | 4.26253            | 2.10854       |\n",
      "PROGRESS: | 2         | 0.342270     | 4.09407            | 1.61181       |\n",
      "PROGRESS: | 3         | 0.454778     | 4.08969            | 1.28932       |\n",
      "PROGRESS: | 4         | 0.557626     | 4.0988             | 1.08537       |\n",
      "PROGRESS: | 5         | 0.652785     | 3.7915             | 0.960448      |\n",
      "PROGRESS: | 6         | 0.719963     | 3.81499            | 0.884156      |\n",
      "PROGRESS: | 7         | 0.784056     | 3.82752            | 0.839534      |\n",
      "PROGRESS: | 8         | 0.853257     | 3.83557            | 0.811022      |\n",
      "PROGRESS: | 9         | 0.918923     | 3.83279            | 0.791158      |\n",
      "PROGRESS: | 10        | 0.993604     | 3.83291            | 0.774194      |\n",
      "PROGRESS: +-----------+--------------+--------------------+---------------+\n",
      "(0.80686223129493395, 9.6466692130421894e-313)\n",
      "PROGRESS: WARNING: Detected extremely low variance for feature(s) 'SP-Oc(UCP)', 'NE-Me(ANGLE_QUANTITY)', 'NE-Me(LANGUAGE)', 'NE-Me(MEASURE)', 'NE-Me(METHOD)', 'NE-Me(NUM)', 'NE-Me(PROJECT)', 'NE-Me(SPEED_QUANTITY)', 'NE-Me(SYSTEM)', 'NE-Me(TEMPERATURE_QUANTITY)', 'NE-Oe(ANGLE_QUANTITY)', 'NE-Oe(LANGUAGE)', 'NE-Oe(MEASURE)', 'NE-Oe(METHOD)', 'NE-Oe(NUM)', 'NE-Oe(PROJECT)', 'NE-Oe(SPEED_QUANTITY)', 'NE-Oe(SYSTEM)', 'NE-Oe(TEMPERATURE_QUANTITY)' because all entries are nearly the same.\n",
      "Proceeding with model training using all features. If the model does not provide results of adequate quality, exclude the above mentioned feature(s) from the input dataset.\n",
      "PROGRESS: Boosted trees regression:\n",
      "PROGRESS: --------------------------------------------------------\n",
      "PROGRESS: Number of examples          : 12237\n",
      "PROGRESS: Number of features          : 123\n",
      "PROGRESS: Number of unpacked features : 123\n",
      "PROGRESS: +-----------+--------------+--------------------+---------------+\n",
      "PROGRESS: | Iteration | Elapsed Time | Training-max_error | Training-rmse |\n",
      "PROGRESS: +-----------+--------------+--------------------+---------------+\n",
      "PROGRESS: | 1         | 0.245415     | 4.09911            | 2.11463       |\n",
      "PROGRESS: | 2         | 0.310901     | 4.02885            | 1.61668       |\n",
      "PROGRESS: | 3         | 0.373439     | 3.96955            | 1.29458       |\n",
      "PROGRESS: | 4         | 0.438337     | 3.68442            | 1.09291       |\n",
      "PROGRESS: | 5         | 0.507699     | 3.64304            | 0.967316      |\n",
      "PROGRESS: | 6         | 0.575460     | 3.64831            | 0.892807      |\n",
      "PROGRESS: | 7         | 0.640915     | 3.65131            | 0.847127      |\n",
      "PROGRESS: | 8         | 0.711915     | 3.66922            | 0.817024      |\n",
      "PROGRESS: | 9         | 0.782961     | 3.67424            | 0.795296      |\n",
      "PROGRESS: | 10        | 0.847033     | 3.63921            | 0.779586      |\n",
      "PROGRESS: +-----------+--------------+--------------------+---------------+\n",
      "(0.84202709306381285, 0.0)\n",
      "PROGRESS: WARNING: Detected extremely low variance for feature(s) 'SP-Oc(LST)', 'SP-Oc(UCP)', 'NE-Me(ANGLE_QUANTITY)', 'NE-Me(LANGUAGE)', 'NE-Me(MEASURE)', 'NE-Me(METHOD)', 'NE-Me(NUM)', 'NE-Me(PROJECT)', 'NE-Me(SPEED_QUANTITY)', 'NE-Me(SYSTEM)', 'NE-Me(TEMPERATURE_QUANTITY)', 'NE-Oe(ANGLE_QUANTITY)', 'NE-Oe(LANGUAGE)', 'NE-Oe(MEASURE)', 'NE-Oe(METHOD)', 'NE-Oe(NUM)', 'NE-Oe(PROJECT)', 'NE-Oe(SPEED_QUANTITY)', 'NE-Oe(SYSTEM)', 'NE-Oe(TEMPERATURE_QUANTITY)' because all entries are nearly the same.\n",
      "Proceeding with model training using all features. If the model does not provide results of adequate quality, exclude the above mentioned feature(s) from the input dataset.\n",
      "PROGRESS: Boosted trees regression:\n",
      "PROGRESS: --------------------------------------------------------\n",
      "PROGRESS: Number of examples          : 12236\n",
      "PROGRESS: Number of features          : 123\n",
      "PROGRESS: Number of unpacked features : 123\n",
      "PROGRESS: +-----------+--------------+--------------------+---------------+\n",
      "PROGRESS: | Iteration | Elapsed Time | Training-max_error | Training-rmse |\n",
      "PROGRESS: +-----------+--------------+--------------------+---------------+\n",
      "PROGRESS: | 1         | 0.229089     | 4.27279            | 2.10961       |\n",
      "PROGRESS: | 2         | 0.296242     | 4.22203            | 1.61256       |\n",
      "PROGRESS: | 3         | 0.359224     | 3.9582             | 1.29135       |\n",
      "PROGRESS: | 4         | 0.428907     | 3.97286            | 1.08847       |\n",
      "PROGRESS: | 5         | 0.496385     | 4.0061             | 0.963548      |\n",
      "PROGRESS: | 6         | 0.563058     | 4.0176             | 0.888034      |\n",
      "PROGRESS: | 7         | 0.630456     | 3.80212            | 0.842762      |\n",
      "PROGRESS: | 8         | 0.695945     | 3.81217            | 0.81205       |\n",
      "PROGRESS: | 9         | 0.763241     | 3.81092            | 0.788596      |\n",
      "PROGRESS: | 10        | 0.836560     | 3.46437            | 0.77313       |\n",
      "PROGRESS: +-----------+--------------+--------------------+---------------+\n",
      "(0.81038463036846775, 1.3461505272192481e-317)\n",
      "PROGRESS: WARNING: Detected extremely low variance for feature(s) 'SP-Oc(UCP)', 'NE-Me(ANGLE_QUANTITY)', 'NE-Me(LANGUAGE)', 'NE-Me(MEASURE)', 'NE-Me(METHOD)', 'NE-Me(NUM)', 'NE-Me(PROJECT)', 'NE-Me(SPEED_QUANTITY)', 'NE-Me(SYSTEM)', 'NE-Me(TEMPERATURE_QUANTITY)', 'NE-Oe(ANGLE_QUANTITY)', 'NE-Oe(LANGUAGE)', 'NE-Oe(MEASURE)', 'NE-Oe(METHOD)', 'NE-Oe(NUM)', 'NE-Oe(PROJECT)', 'NE-Oe(SPEED_QUANTITY)', 'NE-Oe(SYSTEM)', 'NE-Oe(TEMPERATURE_QUANTITY)' because all entries are nearly the same.\n",
      "Proceeding with model training using all features. If the model does not provide results of adequate quality, exclude the above mentioned feature(s) from the input dataset.\n",
      "PROGRESS: Boosted trees regression:\n",
      "PROGRESS: --------------------------------------------------------\n",
      "PROGRESS: Number of examples          : 12236\n",
      "PROGRESS: Number of features          : 123\n",
      "PROGRESS: Number of unpacked features : 123\n",
      "PROGRESS: +-----------+--------------+--------------------+---------------+\n",
      "PROGRESS: | Iteration | Elapsed Time | Training-max_error | Training-rmse |\n",
      "PROGRESS: +-----------+--------------+--------------------+---------------+\n",
      "PROGRESS: | 1         | 0.196852     | 4.29418            | 2.10589       |\n",
      "PROGRESS: | 2         | 0.271439     | 4.04822            | 1.60834       |\n",
      "PROGRESS: | 3         | 0.338284     | 3.86871            | 1.28594       |\n",
      "PROGRESS: | 4         | 0.407833     | 3.83854            | 1.08533       |\n",
      "PROGRESS: | 5         | 0.479808     | 3.83111            | 0.964199      |\n",
      "PROGRESS: | 6         | 0.541650     | 3.84316            | 0.890384      |\n",
      "PROGRESS: | 7         | 0.608193     | 3.86782            | 0.843764      |\n",
      "PROGRESS: | 8         | 0.679892     | 3.82059            | 0.810853      |\n",
      "PROGRESS: | 9         | 0.745142     | 3.825              | 0.790469      |\n",
      "PROGRESS: | 10        | 0.819240     | 3.39082            | 0.771477      |\n",
      "PROGRESS: +-----------+--------------+--------------------+---------------+\n",
      "(0.82119567946657757, 0.0)\n",
      "PROGRESS: WARNING: Detected extremely low variance for feature(s) 'SP-Oc(UCP)', 'NE-Me(ANGLE_QUANTITY)', 'NE-Me(LANGUAGE)', 'NE-Me(MEASURE)', 'NE-Me(METHOD)', 'NE-Me(NUM)', 'NE-Me(PROJECT)', 'NE-Me(SPEED_QUANTITY)', 'NE-Me(SYSTEM)', 'NE-Me(TEMPERATURE_QUANTITY)', 'NE-Oe(ANGLE_QUANTITY)', 'NE-Oe(LANGUAGE)', 'NE-Oe(MEASURE)', 'NE-Oe(METHOD)', 'NE-Oe(NUM)', 'NE-Oe(PROJECT)', 'NE-Oe(SPEED_QUANTITY)', 'NE-Oe(SYSTEM)', 'NE-Oe(TEMPERATURE_QUANTITY)' because all entries are nearly the same.\n",
      "Proceeding with model training using all features. If the model does not provide results of adequate quality, exclude the above mentioned feature(s) from the input dataset.\n",
      "PROGRESS: Boosted trees regression:\n",
      "PROGRESS: --------------------------------------------------------\n",
      "PROGRESS: Number of examples          : 12237\n",
      "PROGRESS: Number of features          : 123\n",
      "PROGRESS: Number of unpacked features : 123\n",
      "PROGRESS: +-----------+--------------+--------------------+---------------+\n",
      "PROGRESS: | Iteration | Elapsed Time | Training-max_error | Training-rmse |\n",
      "PROGRESS: +-----------+--------------+--------------------+---------------+\n",
      "PROGRESS: | 1         | 0.191731     | 4.17596            | 2.11011       |\n",
      "PROGRESS: | 2         | 0.257234     | 4.13641            | 1.61232       |\n",
      "PROGRESS: | 3         | 0.320209     | 4.1586             | 1.2881        |\n",
      "PROGRESS: | 4         | 0.385953     | 4.16987            | 1.08581       |\n",
      "PROGRESS: | 5         | 0.451101     | 3.73131            | 0.962375      |\n",
      "PROGRESS: | 6         | 0.519121     | 3.72779            | 0.889752      |\n",
      "PROGRESS: | 7         | 0.580391     | 3.71453            | 0.843261      |\n",
      "PROGRESS: | 8         | 0.650331     | 3.70268            | 0.812576      |\n",
      "PROGRESS: | 9         | 0.718181     | 3.72718            | 0.790395      |\n",
      "PROGRESS: | 10        | 0.781333     | 3.69634            | 0.775668      |\n",
      "PROGRESS: +-----------+--------------+--------------------+---------------+\n",
      "(0.82109783088448218, 0.0)\n",
      "PROGRESS: WARNING: Detected extremely low variance for feature(s) 'SP-Oc(UCP)', 'NE-Me(ANGLE_QUANTITY)', 'NE-Me(LANGUAGE)', 'NE-Me(MEASURE)', 'NE-Me(METHOD)', 'NE-Me(NUM)', 'NE-Me(PROJECT)', 'NE-Me(SPEED_QUANTITY)', 'NE-Me(SYSTEM)', 'NE-Me(TEMPERATURE_QUANTITY)', 'NE-Oe(ANGLE_QUANTITY)', 'NE-Oe(LANGUAGE)', 'NE-Oe(MEASURE)', 'NE-Oe(METHOD)', 'NE-Oe(NUM)', 'NE-Oe(PROJECT)', 'NE-Oe(SPEED_QUANTITY)', 'NE-Oe(SYSTEM)', 'NE-Oe(TEMPERATURE_QUANTITY)' because all entries are nearly the same.\n",
      "Proceeding with model training using all features. If the model does not provide results of adequate quality, exclude the above mentioned feature(s) from the input dataset.\n",
      "PROGRESS: Boosted trees regression:\n",
      "PROGRESS: --------------------------------------------------------\n",
      "PROGRESS: Number of examples          : 12236\n",
      "PROGRESS: Number of features          : 123\n",
      "PROGRESS: Number of unpacked features : 123\n",
      "PROGRESS: +-----------+--------------+--------------------+---------------+\n",
      "PROGRESS: | Iteration | Elapsed Time | Training-max_error | Training-rmse |\n",
      "PROGRESS: +-----------+--------------+--------------------+---------------+\n",
      "PROGRESS: | 1         | 0.182877     | 4.33409            | 2.1045        |\n",
      "PROGRESS: | 2         | 0.249903     | 3.98413            | 1.61012       |\n",
      "PROGRESS: | 3         | 0.318514     | 3.97389            | 1.28957       |\n",
      "PROGRESS: | 4         | 0.385467     | 3.94523            | 1.08931       |\n",
      "PROGRESS: | 5         | 0.452077     | 3.7313             | 0.967613      |\n",
      "PROGRESS: | 6         | 0.517637     | 3.62712            | 0.895207      |\n",
      "PROGRESS: | 7         | 0.582047     | 3.48051            | 0.851009      |\n",
      "PROGRESS: | 8         | 0.648208     | 3.48148            | 0.818285      |\n",
      "PROGRESS: | 9         | 0.714939     | 3.48688            | 0.798219      |\n",
      "PROGRESS: | 10        | 0.779763     | 3.48824            | 0.781998      |\n",
      "PROGRESS: +-----------+--------------+--------------------+---------------+\n",
      "(0.82265324543985574, 0.0)\n",
      "PROGRESS: WARNING: Detected extremely low variance for feature(s) 'SP-Oc(UCP)', 'NE-Me(ANGLE_QUANTITY)', 'NE-Me(LANGUAGE)', 'NE-Me(MEASURE)', 'NE-Me(METHOD)', 'NE-Me(NUM)', 'NE-Me(PROJECT)', 'NE-Me(SPEED_QUANTITY)', 'NE-Me(SYSTEM)', 'NE-Me(TEMPERATURE_QUANTITY)', 'NE-Oe(ANGLE_QUANTITY)', 'NE-Oe(LANGUAGE)', 'NE-Oe(MEASURE)', 'NE-Oe(METHOD)', 'NE-Oe(NUM)', 'NE-Oe(PROJECT)', 'NE-Oe(SPEED_QUANTITY)', 'NE-Oe(SYSTEM)', 'NE-Oe(TEMPERATURE_QUANTITY)' because all entries are nearly the same.\n",
      "Proceeding with model training using all features. If the model does not provide results of adequate quality, exclude the above mentioned feature(s) from the input dataset.\n",
      "PROGRESS: Boosted trees regression:\n",
      "PROGRESS: --------------------------------------------------------\n",
      "PROGRESS: Number of examples          : 12236\n",
      "PROGRESS: Number of features          : 123\n",
      "PROGRESS: Number of unpacked features : 123\n",
      "PROGRESS: +-----------+--------------+--------------------+---------------+\n",
      "PROGRESS: | Iteration | Elapsed Time | Training-max_error | Training-rmse |\n",
      "PROGRESS: +-----------+--------------+--------------------+---------------+\n",
      "PROGRESS: | 1         | 0.181568     | 4.1704             | 2.10981       |\n",
      "PROGRESS: | 2         | 0.244737     | 3.89452            | 1.61206       |\n",
      "PROGRESS: | 3         | 0.314099     | 3.86111            | 1.28961       |\n",
      "PROGRESS: | 4         | 0.380708     | 3.80669            | 1.08873       |\n",
      "PROGRESS: | 5         | 0.443778     | 3.83288            | 0.966567      |\n",
      "PROGRESS: | 6         | 0.508818     | 3.86474            | 0.891037      |\n",
      "PROGRESS: | 7         | 0.581439     | 3.80381            | 0.843194      |\n",
      "PROGRESS: | 8         | 0.645285     | 3.4981             | 0.815154      |\n",
      "PROGRESS: | 9         | 0.710533     | 3.49908            | 0.7933        |\n",
      "PROGRESS: | 10        | 0.777017     | 3.47328            | 0.777125      |\n",
      "PROGRESS: +-----------+--------------+--------------------+---------------+\n",
      "(0.81383758832843711, 1.8774494541967369e-322)\n",
      "PROGRESS: WARNING: Detected extremely low variance for feature(s) 'SP-Oc(UCP)', 'NE-Me(ANGLE_QUANTITY)', 'NE-Me(LANGUAGE)', 'NE-Me(MEASURE)', 'NE-Me(METHOD)', 'NE-Me(NUM)', 'NE-Me(PROJECT)', 'NE-Me(SPEED_QUANTITY)', 'NE-Me(SYSTEM)', 'NE-Me(TEMPERATURE_QUANTITY)', 'NE-Oe(ANGLE_QUANTITY)', 'NE-Oe(LANGUAGE)', 'NE-Oe(MEASURE)', 'NE-Oe(METHOD)', 'NE-Oe(NUM)', 'NE-Oe(PROJECT)', 'NE-Oe(SPEED_QUANTITY)', 'NE-Oe(SYSTEM)', 'NE-Oe(TEMPERATURE_QUANTITY)' because all entries are nearly the same.\n",
      "Proceeding with model training using all features. If the model does not provide results of adequate quality, exclude the above mentioned feature(s) from the input dataset.\n",
      "PROGRESS: Boosted trees regression:\n",
      "PROGRESS: --------------------------------------------------------\n",
      "PROGRESS: Number of examples          : 12237\n",
      "PROGRESS: Number of features          : 123\n",
      "PROGRESS: Number of unpacked features : 123\n",
      "PROGRESS: +-----------+--------------+--------------------+---------------+\n",
      "PROGRESS: | Iteration | Elapsed Time | Training-max_error | Training-rmse |\n",
      "PROGRESS: +-----------+--------------+--------------------+---------------+\n",
      "PROGRESS: | 1         | 0.183792     | 4.29934            | 2.1097        |\n",
      "PROGRESS: | 2         | 0.255554     | 3.90873            | 1.61345       |\n",
      "PROGRESS: | 3         | 0.321112     | 3.86549            | 1.29269       |\n",
      "PROGRESS: | 4         | 0.385587     | 3.87128            | 1.09235       |\n",
      "PROGRESS: | 5         | 0.449370     | 3.83501            | 0.968236      |\n",
      "PROGRESS: | 6         | 0.514603     | 3.63732            | 0.892313      |\n",
      "PROGRESS: | 7         | 0.579585     | 3.56723            | 0.843229      |\n",
      "PROGRESS: | 8         | 0.645505     | 3.57422            | 0.81309       |\n",
      "PROGRESS: | 9         | 0.717519     | 3.39983            | 0.792238      |\n",
      "PROGRESS: | 10        | 0.782702     | 3.40433            | 0.777866      |\n",
      "PROGRESS: +-----------+--------------+--------------------+---------------+\n",
      "(0.83064946537397444, 0.0)\n"
     ]
    }
   ],
   "source": [
    "\n",
    "\n",
    "for i in range(k):\n",
    "    start, end = kth_start_end(n,k,i)\n",
    "    valid_kth = train_valid_shuffled[start:end]\n",
    "    train_kth = get_kth_train(train_valid_shuffled, start, end, n)\n",
    "    m = graphlab.boosted_trees_regression.create(train_kth, target='Score', features=feat, validation_set=None)\n",
    "    print sp.stats.pearsonr(np.array(m.predict(valid_kth)), np.array(valid_kth['Score']))"
   ]
  },
  {
   "cell_type": "code",
   "execution_count": 17,
   "metadata": {
    "collapsed": true
   },
   "outputs": [],
   "source": [
    "test2015 = train.filter_by('STS2015-gold', 'Dataset')\n",
    "traintill2014 = train.filter_by(['STS2012-gold', 'STS2013-gold', 'STS2014-gold'], 'Dataset')"
   ]
  },
  {
   "cell_type": "code",
   "execution_count": 18,
   "metadata": {
    "collapsed": false
   },
   "outputs": [
    {
     "name": "stdout",
     "output_type": "stream",
     "text": [
      "PROGRESS: WARNING: Detected extremely low variance for feature(s) 'SP-Oc(UCP)', 'NE-Me(ANGLE_QUANTITY)', 'NE-Me(LANGUAGE)', 'NE-Me(MEASURE)', 'NE-Me(METHOD)', 'NE-Me(NUM)', 'NE-Me(PROJECT)', 'NE-Me(SIZE_QUANTITY)', 'NE-Me(SPEED_QUANTITY)', 'NE-Me(SYSTEM)', 'NE-Me(TEMPERATURE_QUANTITY)', 'NE-Oe(ANGLE_QUANTITY)', 'NE-Oe(LANGUAGE)', 'NE-Oe(MEASURE)', 'NE-Oe(METHOD)', 'NE-Oe(NUM)', 'NE-Oe(PROJECT)', 'NE-Oe(SIZE_QUANTITY)', 'NE-Oe(SPEED_QUANTITY)', 'NE-Oe(SYSTEM)', 'NE-Oe(TEMPERATURE_QUANTITY)' because all entries are nearly the same.\n",
      "Proceeding with model training using all features. If the model does not provide results of adequate quality, exclude the above mentioned feature(s) from the input dataset.\n",
      "PROGRESS: Boosted trees regression:\n",
      "PROGRESS: --------------------------------------------------------\n",
      "PROGRESS: Number of examples          : 8363\n",
      "PROGRESS: Number of features          : 123\n",
      "PROGRESS: Number of unpacked features : 123\n",
      "PROGRESS: +-----------+--------------+--------------------+---------------+\n",
      "PROGRESS: | Iteration | Elapsed Time | Training-max_error | Training-rmse |\n",
      "PROGRESS: +-----------+--------------+--------------------+---------------+\n",
      "PROGRESS: | 1         | 0.117920     | 4.01133            | 2.15363       |\n",
      "PROGRESS: | 2         | 0.163059     | 3.87901            | 1.64403       |\n",
      "PROGRESS: | 3         | 0.207423     | 3.66795            | 1.31346       |\n",
      "PROGRESS: | 4         | 0.254143     | 3.62628            | 1.1061        |\n",
      "PROGRESS: | 5         | 0.303454     | 3.63752            | 0.979447      |\n",
      "PROGRESS: | 6         | 0.347554     | 3.64008            | 0.896498      |\n",
      "PROGRESS: | 7         | 0.399883     | 3.67289            | 0.844464      |\n",
      "PROGRESS: | 8         | 0.446888     | 3.69975            | 0.812548      |\n",
      "PROGRESS: | 9         | 0.493047     | 3.45915            | 0.784092      |\n",
      "PROGRESS: | 10        | 0.534955     | 3.43229            | 0.766283      |\n",
      "PROGRESS: +-----------+--------------+--------------------+---------------+\n"
     ]
    }
   ],
   "source": [
    "m = graphlab.boosted_trees_regression.create(traintill2014, target='Score', features=feat, validation_set=None)"
   ]
  },
  {
   "cell_type": "code",
   "execution_count": 19,
   "metadata": {
    "collapsed": false
   },
   "outputs": [
    {
     "data": {
      "text/plain": [
       "(0.78413241874194251, 0.0)"
      ]
     },
     "execution_count": 19,
     "metadata": {},
     "output_type": "execute_result"
    }
   ],
   "source": [
    "sp.stats.pearsonr(np.array(m.predict(test2015)), np.array(test2015['Score']))"
   ]
  },
  {
   "cell_type": "code",
   "execution_count": null,
   "metadata": {
    "collapsed": false
   },
   "outputs": [],
   "source": []
  },
  {
   "cell_type": "code",
   "execution_count": 21,
   "metadata": {
    "collapsed": true
   },
   "outputs": [],
   "source": [
    "import graphlab as gl\n",
    "import scipy as sp\n",
    "import numpy as np"
   ]
  },
  {
   "cell_type": "code",
   "execution_count": 22,
   "metadata": {
    "collapsed": false
   },
   "outputs": [
    {
     "name": "stdout",
     "output_type": "stream",
     "text": [
      "PROGRESS: WARNING: Detected extremely low variance for feature(s) 'SP-Oc(UCP)', 'NE-Me(ANGLE_QUANTITY)', 'NE-Me(LANGUAGE)', 'NE-Me(MEASURE)', 'NE-Me(METHOD)', 'NE-Me(NUM)', 'NE-Me(PROJECT)', 'NE-Me(SIZE_QUANTITY)', 'NE-Me(SPEED_QUANTITY)', 'NE-Me(SYSTEM)', 'NE-Me(TEMPERATURE_QUANTITY)', 'NE-Oe(ANGLE_QUANTITY)', 'NE-Oe(LANGUAGE)', 'NE-Oe(MEASURE)', 'NE-Oe(METHOD)', 'NE-Oe(NUM)', 'NE-Oe(PROJECT)', 'NE-Oe(SIZE_QUANTITY)', 'NE-Oe(SPEED_QUANTITY)', 'NE-Oe(SYSTEM)', 'NE-Oe(TEMPERATURE_QUANTITY)' because all entries are nearly the same.\n",
      "Proceeding with model training using all features. If the model does not provide results of adequate quality, exclude the above mentioned feature(s) from the input dataset.\n",
      "PROGRESS: Boosted trees regression:\n",
      "PROGRESS: --------------------------------------------------------\n",
      "PROGRESS: Number of examples          : 8363\n",
      "PROGRESS: Number of features          : 122\n",
      "PROGRESS: Number of unpacked features : 122\n",
      "PROGRESS: +-----------+--------------+--------------------+---------------+\n",
      "PROGRESS: | Iteration | Elapsed Time | Training-max_error | Training-rmse |\n",
      "PROGRESS: +-----------+--------------+--------------------+---------------+\n",
      "PROGRESS: | 1         | 0.127201     | 4.01133            | 2.15402       |\n",
      "PROGRESS: | 2         | 0.174313     | 3.85026            | 1.64432       |\n",
      "PROGRESS: | 3         | 0.220887     | 3.77439            | 1.3138        |\n",
      "PROGRESS: | 4         | 0.268383     | 3.72899            | 1.10735       |\n",
      "PROGRESS: | 5         | 0.312229     | 3.74124            | 0.980974      |\n",
      "PROGRESS: | 6         | 0.358138     | 3.74499            | 0.899217      |\n",
      "PROGRESS: | 7         | 0.403956     | 3.67937            | 0.848721      |\n",
      "PROGRESS: | 8         | 0.450312     | 3.61026            | 0.816541      |\n",
      "PROGRESS: | 9         | 0.504399     | 3.56371            | 0.792043      |\n",
      "PROGRESS: | 10        | 0.555701     | 3.41928            | 0.773259      |\n",
      "PROGRESS: +-----------+--------------+--------------------+---------------+\n"
     ]
    }
   ],
   "source": [
    "feat = [i for i in train.column_names() if i not in ['Dataset', 'Domain', 'Score', 'Sent1', 'Sent2'] + \\\n",
    "        ['DLS_compose_ppmi', 'DLS_cbow_ppmi', 'prop_harmonic', 'glove_cosine', 'REVAL']]\n",
    "m = graphlab.boosted_trees_regression.create(traintill2014, target='Score', features=feat, validation_set=None)\n"
   ]
  },
  {
   "cell_type": "code",
   "execution_count": 23,
   "metadata": {
    "collapsed": false
   },
   "outputs": [
    {
     "data": {
      "text/plain": [
       "(0.7868181623817736, 0.0)"
      ]
     },
     "execution_count": 23,
     "metadata": {},
     "output_type": "execute_result"
    }
   ],
   "source": [
    "sp.stats.pearsonr(np.array(m.predict(test2015)), np.array(test2015['Score']))"
   ]
  },
  {
   "cell_type": "code",
   "execution_count": null,
   "metadata": {
    "collapsed": false
   },
   "outputs": [],
   "source": []
  },
  {
   "cell_type": "code",
   "execution_count": null,
   "metadata": {
    "collapsed": true
   },
   "outputs": [],
   "source": []
  }
 ],
 "metadata": {
  "kernelspec": {
   "display_name": "Python 2",
   "language": "python",
   "name": "python2"
  },
  "language_info": {
   "codemirror_mode": {
    "name": "ipython",
    "version": 2
   },
   "file_extension": ".py",
   "mimetype": "text/x-python",
   "name": "python",
   "nbconvert_exporter": "python",
   "pygments_lexer": "ipython2",
   "version": "2.7.11"
  }
 },
 "nbformat": 4,
 "nbformat_minor": 0
}
