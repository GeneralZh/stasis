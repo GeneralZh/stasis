{
 "cells": [
  {
   "cell_type": "code",
   "execution_count": 1,
   "metadata": {
    "collapsed": true
   },
   "outputs": [],
   "source": [
    "import pandas as pd\n",
    "import numpy as np\n",
    "from sklearn.cross_validation import train_test_split\n",
    "import xgboost as xgb\n",
    "import operator\n",
    "\n",
    "from sklearn.metrics import mean_squared_error\n",
    "from math import sqrt"
   ]
  },
  {
   "cell_type": "code",
   "execution_count": 3,
   "metadata": {
    "collapsed": false
   },
   "outputs": [],
   "source": [
    "def rmse(y, yhat):\n",
    "    return np.sqrt(np.mean((yhat-y)**2))\n",
    "\n",
    "def train_xgboost(train_valid, features, num_boost_round=500, test_size=0.20, \n",
    "                  eta=0.13, max_depth=10):\n",
    "    params = {\"objective\": \"reg:linear\",\n",
    "              \"booster\" : \"gbtree\",\n",
    "              \"eta\": eta,\n",
    "              \"max_depth\": max_depth,\n",
    "              \"subsample\": 0.9,\n",
    "              \"colsample_bytree\": 0.6,\n",
    "              \"silent\": 1,\n",
    "              \"seed\": 0,\n",
    "              'eval_metric': 'rmse'\n",
    "              }\n",
    "\n",
    "    X_train, X_valid = train_test_split(train_valid, test_size=test_size, random_state=10)\n",
    "    y_train = np.log1p(X_train.Score)\n",
    "    y_valid = np.log1p(X_valid.Score)\n",
    "    dtrain = xgb.DMatrix(X_train[features], y_train)\n",
    "    dvalid = xgb.DMatrix(X_valid[features], y_valid)\n",
    "\n",
    "    watchlist = [(dtrain, 'train'), (dvalid, 'eval')]\n",
    "    gbm = xgb.train(params, dtrain, num_boost_round, evals=watchlist, \n",
    "                    early_stopping_rounds=100, verbose_eval=True)\n",
    "\n",
    "    print(\"Validating\")\n",
    "    yhat = gbm.predict(xgb.DMatrix(X_valid[features]))\n",
    "    error = rmse(X_valid.Score.values, np.expm1(yhat))\n",
    "    print('RMSE: {:.6f}'.format(error))\n",
    "    return gbm\n",
    "\n",
    "def xgboost_predict(model, test, features, nafill=0.0):\n",
    "    _test = test.fillna(nafill)\n",
    "    dtest = xgb.DMatrix(_test[features])\n",
    "    predictions = model.predict(dtest)\n",
    "    return np.expm1(predictions)"
   ]
  },
  {
   "cell_type": "code",
   "execution_count": null,
   "metadata": {
    "collapsed": true
   },
   "outputs": [],
   "source": []
  }
 ],
 "metadata": {
  "kernelspec": {
   "display_name": "Python 2",
   "language": "python",
   "name": "python2"
  },
  "language_info": {
   "codemirror_mode": {
    "name": "ipython",
    "version": 2
   },
   "file_extension": ".py",
   "mimetype": "text/x-python",
   "name": "python",
   "nbconvert_exporter": "python",
   "pygments_lexer": "ipython2",
   "version": "2.7.11"
  }
 },
 "nbformat": 4,
 "nbformat_minor": 0
}
